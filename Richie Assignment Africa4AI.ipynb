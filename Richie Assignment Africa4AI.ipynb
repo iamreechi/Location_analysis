{
 "cells": [
  {
   "cell_type": "markdown",
   "metadata": {},
   "source": [
    "# Point of Interest - Assignment My Location -Python"
   ]
  },
  {
   "cell_type": "markdown",
   "metadata": {},
   "source": [
    "<img src=\"image/Propert24.png\">"
   ]
  },
  {
   "cell_type": "markdown",
   "metadata": {},
   "source": [
    "### 1.1: Loading the Python packages "
   ]
  },
  {
   "cell_type": "code",
   "execution_count": 1,
   "metadata": {},
   "outputs": [],
   "source": [
    "import pandas as pd     # For Data Management\n",
    "import numpy as np\n",
    "from geopy.geocoders import Nominatim # For geocoding & Reverse-geocoding\n",
    "import overpy  # For searching point of interest and others\n",
    "geolocator = Nominatim(user_agent=\"my_app\")"
   ]
  },
  {
   "cell_type": "markdown",
   "metadata": {},
   "source": [
    "## Place Search - Geocoding"
   ]
  },
  {
   "cell_type": "markdown",
   "metadata": {},
   "source": [
    "### 2.1 Searching for the Address of the House"
   ]
  },
  {
   "cell_type": "code",
   "execution_count": 2,
   "metadata": {},
   "outputs": [],
   "source": [
    "from geopy.geocoders import Nominatim \n",
    "geolocator = Nominatim(user_agent=\"my_app\")"
   ]
  },
  {
   "cell_type": "code",
   "execution_count": 3,
   "metadata": {},
   "outputs": [],
   "source": [
    "Address = \"73 Adeniyi, Ikeja, Lagos\""
   ]
  },
  {
   "cell_type": "code",
   "execution_count": 4,
   "metadata": {},
   "outputs": [
    {
     "data": {
      "text/plain": [
       "{'place_id': 206594471,\n",
       " 'licence': 'Data © OpenStreetMap contributors, ODbL 1.0. https://osm.org/copyright',\n",
       " 'osm_type': 'way',\n",
       " 'osm_id': 574497982,\n",
       " 'boundingbox': ['6.6047127', '6.6047359', '3.3369651', '3.3370429'],\n",
       " 'lat': '6.6047359',\n",
       " 'lon': '3.3370429',\n",
       " 'display_name': 'Adeniyi Jones Avenue, Oregun, Ikeja, Lagos, 100282, Nigeria',\n",
       " 'class': 'highway',\n",
       " 'type': 'tertiary',\n",
       " 'importance': 0.42000000000000004}"
      ]
     },
     "execution_count": 4,
     "metadata": {},
     "output_type": "execute_result"
    }
   ],
   "source": [
    "Geo_Coordinate = geolocator.geocode(Address)\n",
    "Geo_Coordinate.raw"
   ]
  },
  {
   "cell_type": "code",
   "execution_count": 5,
   "metadata": {},
   "outputs": [
    {
     "data": {
      "text/plain": [
       "[Location(Adeniji St, Lagos, Ikeja, Lagos, (6.63212568255479, 3.348973665958898, 0.0)),\n",
       " Location(Ikeja, Lagos, (6.607760000000042, 3.348540000000071, 0.0)),\n",
       " Location(Adeniyi Jones Ave, Lagos, Ikeja, Lagos, (6.610631531614608, 3.3449408111218664, 0.0)),\n",
       " Location(Adeniji Clos, Lagos, Ifo, Ogun, (6.680839499999999, 3.303153000000015, 0.0)),\n",
       " Location(Adeniji St, Lagos, Mushin, Lagos, (6.51360612767523, 3.356400155784806, 0.0)),\n",
       " Location(Adeniji Clos, Lagos, Surulere, Lagos, (6.477824366786062, 3.3374891300134717, 0.0)),\n",
       " Location(Adeniji St, Lagos, Ifako-Ijaiye, Lagos, (6.6348256493279365, 3.3290042025491755, 0.0)),\n",
       " Location(Adeniji St, Lagos, Ajeromi-Ifelodun, Lagos, (6.445931109390635, 3.3269939174586183, 0.0)),\n",
       " Location(Adebiyi St, Lagos, Shomolu, Lagos, (6.531720737809772, 3.3756747988485554, 0.0)),\n",
       " Location(Adebiyi St, Lagos, Agege, Lagos, (6.61010463109062, 3.315262184454696, 0.0)),\n",
       " Location(Adeniji Way, Lagos, Oshodi-Isolo, Lagos, (6.522722999999999, 3.3270862500000016, 0.0)),\n",
       " Location(Adebiyi St, Lagos, Lagos Mainland, Lagos, (6.515128320814704, 3.3833726683502796, 0.0)),\n",
       " Location(Adeniyi St, Lagos, Ifo, Ogun, (6.684588000000005, 3.3169679999999975, 0.0)),\n",
       " Location(Adeniyi St, Lagos, Mushin, Lagos, (6.531248784747149, 3.3633126968637774, 0.0)),\n",
       " Location(Adeniyi St, Lagos, Agege, Lagos, (6.620137380662672, 3.3212610158620417, 0.0)),\n",
       " Location(Adeniyi St, Lagos, Oshodi-Isolo, Lagos, (6.5158774953266905, 3.334393227570316, 0.0)),\n",
       " Location(Adeniyi St, Ikorodu, Lagos, (6.647299704084222, 3.4756923329052465, 0.0))]"
      ]
     },
     "execution_count": 5,
     "metadata": {},
     "output_type": "execute_result"
    }
   ],
   "source": [
    "Address = \"73 Adeniyi, Ikeja, Lagos\"\n",
    "from geopy.geocoders import ArcGIS\n",
    "ArcGIS_geolocator = ArcGIS()\n",
    "ArcGIS_geolocator.geocode(Address, exactly_one=False)"
   ]
  },
  {
   "cell_type": "markdown",
   "metadata": {},
   "source": [
    "## Point of Interest"
   ]
  },
  {
   "cell_type": "markdown",
   "metadata": {},
   "source": [
    "### 3.1 Food, Healthcare and ATM POI"
   ]
  },
  {
   "cell_type": "markdown",
   "metadata": {},
   "source": [
    "####  i. Calling the API"
   ]
  },
  {
   "cell_type": "code",
   "execution_count": 6,
   "metadata": {},
   "outputs": [],
   "source": [
    "api = overpy.Overpass()"
   ]
  },
  {
   "cell_type": "markdown",
   "metadata": {},
   "source": [
    "#### ii. Setting the Radius Treshold"
   ]
  },
  {
   "cell_type": "code",
   "execution_count": 7,
   "metadata": {},
   "outputs": [],
   "source": [
    "# 9000 = 9km"
   ]
  },
  {
   "cell_type": "code",
   "execution_count": 40,
   "metadata": {},
   "outputs": [],
   "source": [
    "result0 = api.query(\"\"\"\n",
    "    node(around:9000,6.610631531614608, 3.3449408111218664)[\"cuisine\"];\n",
    "    (._;>;);\n",
    "    out body;\n",
    "    \"\"\")\n",
    "\n",
    "result1 = api.query(\"\"\"\n",
    "    node(around:9000,6.610631531614608, 3.3449408111218664)[\"healthcare\"];\n",
    "    (._;>;);\n",
    "    out body;\n",
    "    \"\"\")\n",
    "result2 = api.query(\"\"\"\n",
    "    node(around:9000,6.610631531614608, 3.3449408111218664)[\"atm\"];\n",
    "    (._;>;);\n",
    "    out body;\n",
    "    \"\"\")\n",
    "\n",
    "\n",
    "result3 = api.query(\"\"\"\n",
    "    node(around:9000,6.610631531614608, 3.3449408111218664)[\"sport\"];\n",
    "    (._;>;);\n",
    "    out body;\n",
    "    \"\"\")"
   ]
  },
  {
   "cell_type": "markdown",
   "metadata": {},
   "source": [
    "####  Number of Cuisine,HealthCare and ATM"
   ]
  },
  {
   "cell_type": "code",
   "execution_count": 42,
   "metadata": {},
   "outputs": [
    {
     "name": "stdout",
     "output_type": "stream",
     "text": [
      "Number of Food Selling Places =  9\n",
      "Number of Health Care Facility =  1\n",
      "Number of ATM  =  5\n",
      "Number of Sport  =  1\n"
     ]
    }
   ],
   "source": [
    "print(\"Number of Food Selling Places = \",len(result0.nodes))\n",
    "print(\"Number of Health Care Facility = \",len(result1.nodes))\n",
    "print(\"Number of ATM  = \",len(result2.nodes))\n",
    "print(\"Number of Sport  = \",len(result3.nodes))"
   ]
  },
  {
   "cell_type": "markdown",
   "metadata": {},
   "source": [
    "#### iv. Raw Results"
   ]
  },
  {
   "cell_type": "code",
   "execution_count": 43,
   "metadata": {},
   "outputs": [
    {
     "name": "stdout",
     "output_type": "stream",
     "text": [
      "Name: Fired Yam Joint\n",
      "    Lat: 6.611509, Lon: 3.358840\n",
      "Name: Chicken Republic\n",
      "    Lat: 6.591666, Lon: 3.359756\n",
      "Name: 7 Points Bar and Grill\n",
      "    Lat: 6.601546, Lon: 3.352980\n",
      "Name: KFC\n",
      "    Lat: 6.614258, Lon: 3.357795\n",
      "Name: Dreamfield Juice & Salad Bar\n",
      "    Lat: 6.597941, Lon: 3.353668\n",
      "Name: KFC\n",
      "    Lat: 6.578476, Lon: 3.321260\n",
      "Name: n/a\n",
      "    Lat: 6.576825, Lon: 3.356149\n",
      "Name: KFC\n",
      "    Lat: 6.637780, Lon: 3.369842\n",
      "Name: Tastee\n",
      "    Lat: 6.602567, Lon: 3.305939\n",
      "Name: HealthPlus\n",
      "    Lat: 6.613858, Lon: 3.358141\n",
      "Name: First Bank\n",
      "    Lat: 6.623183, Lon: 3.299247\n",
      "Name: UBA\n",
      "    Lat: 6.558062, Lon: 3.391388\n",
      "Name: GTBank\n",
      "    Lat: 6.640153, Lon: 3.365502\n",
      "Name: Zenith Bank\n",
      "    Lat: 6.640268, Lon: 3.366062\n",
      "Name: First Bank\n",
      "    Lat: 6.640151, Lon: 3.367755\n",
      "Name: Fod Gym\n",
      "    Lat: 6.562515, Lon: 3.384014\n"
     ]
    }
   ],
   "source": [
    "data0 = []\n",
    "for node0 in result0.nodes:\n",
    "    print(\"Name: %s\" % node0.tags.get(\"name\", \"n/a\"))\n",
    "    print(\"    Lat: %f, Lon: %f\" % (node0.lat, node0.lon))\n",
    "    data0.append(node0)\n",
    "data01 = []\n",
    "for node1 in result1.nodes:\n",
    "    print(\"Name: %s\" % node1.tags.get(\"name\", \"n/a\"))\n",
    "    print(\"    Lat: %f, Lon: %f\" % (node1.lat, node1.lon))\n",
    "    data01.append(node1)\n",
    "data02 = []\n",
    "for node2 in result2.nodes:\n",
    "    print(\"Name: %s\" % node2.tags.get(\"name\", \"n/a\"))\n",
    "    print(\"    Lat: %f, Lon: %f\" % (node2.lat, node2.lon))\n",
    "    data02.append(node2)\n",
    "data03 = []\n",
    "for node3 in result3.nodes:\n",
    "    print(\"Name: %s\" % node3.tags.get(\"name\", \"n/a\"))\n",
    "    print(\"    Lat: %f, Lon: %f\" % (node3.lat, node3.lon))\n",
    "    data03.append(node3)"
   ]
  },
  {
   "cell_type": "markdown",
   "metadata": {},
   "source": [
    "#### v. Results in Tabular Format"
   ]
  },
  {
   "cell_type": "code",
   "execution_count": 44,
   "metadata": {},
   "outputs": [],
   "source": [
    "import csv\n",
    "with open('data0.csv', 'w') as csvfile:\n",
    "    csvwriter = csv.writer(csvfile)\n",
    "    for node0 in result0.nodes:\n",
    "        csvwriter.writerow((node0.tags.get(\"name\", \"n/a\") ,  6.610631531614608, 3.3449408111218664, node0.lat , node0.lon))\n",
    "\n",
    "with open('data01.csv', 'w') as csvfile:\n",
    "    csvwriter = csv.writer(csvfile)\n",
    "    for node1 in result1.nodes:\n",
    "        csvwriter.writerow((node1.tags.get(\"name\", \"n/a\") ,  6.610631531614608, 3.3449408111218664, node1.lat , node1.lon))\n",
    "\n",
    "with open('data02.csv', 'w') as csvfile:\n",
    "    csvwriter = csv.writer(csvfile)\n",
    "    for node2 in result2.nodes:\n",
    "        csvwriter.writerow((node2.tags.get(\"name\", \"n/a\") ,  6.610631531614608, 3.3449408111218664, node2.lat , node2.lon))\n",
    "\n",
    "with open('data03.csv', 'w') as csvfile:\n",
    "    csvwriter = csv.writer(csvfile)\n",
    "    for node3 in result3.nodes:\n",
    "        csvwriter.writerow((node3.tags.get(\"name\", \"n/a\") ,  6.610631531614608, 3.3449408111218664, node3.lat , node3.lon))"
   ]
  },
  {
   "cell_type": "code",
   "execution_count": 45,
   "metadata": {},
   "outputs": [],
   "source": [
    "#reading dataset \n",
    "Result0 = pd.read_csv('data0.csv'\n",
    "                      ,header=None\n",
    "                      ,names=[\"restaurant\", \"latitude_Res\", \"longitude_Res\"\n",
    "                                          , \"latitude_Food\", \"longitude_Food\"])\n",
    "Result1 = pd.read_csv('data01.csv'\n",
    "                      ,header=None\n",
    "                      ,names=[\"Healthcare\", \"latitude_Res\", \"longitude_Res\"\n",
    "                                          , \"latitude_Healthcare\", \"longitude_Healthcare\"])\n",
    "Result2 = pd.read_csv('data02.csv'\n",
    "                      ,header=None\n",
    "                      ,names=[\"ATM\", \"latitude_Res\", \"longitude_Res\"\n",
    "                                          , \"latitude_ATM\", \"longitude_ATM\"])\n",
    "\n",
    "Result3 = pd.read_csv('data03.csv'\n",
    "                      ,header=None\n",
    "                      ,names=[\"Sport\", \"latitude_Res\", \"longitude_Res\"\n",
    "                                          , \"latitude_Sport\", \"longitude_Sport\"])"
   ]
  },
  {
   "cell_type": "code",
   "execution_count": 46,
   "metadata": {},
   "outputs": [],
   "source": [
    "Result0.to_csv('Food_Place.csv', index=None)\n",
    "Result1.to_csv('Healthcare.csv', index=None)\n",
    "Result2.to_csv('ATM.csv', index=None)\n",
    "Result3.to_csv('Sport.csv', index=None)"
   ]
  },
  {
   "cell_type": "markdown",
   "metadata": {},
   "source": [
    "#                Point of Interest nearest to my Location using a 9km Radius "
   ]
  },
  {
   "cell_type": "markdown",
   "metadata": {},
   "source": [
    "#### List of Restuarant "
   ]
  },
  {
   "cell_type": "code",
   "execution_count": 47,
   "metadata": {},
   "outputs": [
    {
     "data": {
      "text/html": [
       "<div>\n",
       "<style scoped>\n",
       "    .dataframe tbody tr th:only-of-type {\n",
       "        vertical-align: middle;\n",
       "    }\n",
       "\n",
       "    .dataframe tbody tr th {\n",
       "        vertical-align: top;\n",
       "    }\n",
       "\n",
       "    .dataframe thead th {\n",
       "        text-align: right;\n",
       "    }\n",
       "</style>\n",
       "<table border=\"1\" class=\"dataframe\">\n",
       "  <thead>\n",
       "    <tr style=\"text-align: right;\">\n",
       "      <th></th>\n",
       "      <th>restaurant</th>\n",
       "      <th>latitude_Res</th>\n",
       "      <th>longitude_Res</th>\n",
       "      <th>latitude_Food</th>\n",
       "      <th>longitude_Food</th>\n",
       "    </tr>\n",
       "  </thead>\n",
       "  <tbody>\n",
       "    <tr>\n",
       "      <th>0</th>\n",
       "      <td>Fired Yam Joint</td>\n",
       "      <td>6.610632</td>\n",
       "      <td>3.344941</td>\n",
       "      <td>6.611509</td>\n",
       "      <td>3.358840</td>\n",
       "    </tr>\n",
       "    <tr>\n",
       "      <th>1</th>\n",
       "      <td>Chicken Republic</td>\n",
       "      <td>6.610632</td>\n",
       "      <td>3.344941</td>\n",
       "      <td>6.591666</td>\n",
       "      <td>3.359756</td>\n",
       "    </tr>\n",
       "    <tr>\n",
       "      <th>2</th>\n",
       "      <td>7 Points Bar and Grill</td>\n",
       "      <td>6.610632</td>\n",
       "      <td>3.344941</td>\n",
       "      <td>6.601546</td>\n",
       "      <td>3.352980</td>\n",
       "    </tr>\n",
       "    <tr>\n",
       "      <th>3</th>\n",
       "      <td>KFC</td>\n",
       "      <td>6.610632</td>\n",
       "      <td>3.344941</td>\n",
       "      <td>6.614258</td>\n",
       "      <td>3.357795</td>\n",
       "    </tr>\n",
       "    <tr>\n",
       "      <th>4</th>\n",
       "      <td>Dreamfield Juice &amp; Salad Bar</td>\n",
       "      <td>6.610632</td>\n",
       "      <td>3.344941</td>\n",
       "      <td>6.597941</td>\n",
       "      <td>3.353668</td>\n",
       "    </tr>\n",
       "    <tr>\n",
       "      <th>5</th>\n",
       "      <td>KFC</td>\n",
       "      <td>6.610632</td>\n",
       "      <td>3.344941</td>\n",
       "      <td>6.578476</td>\n",
       "      <td>3.321260</td>\n",
       "    </tr>\n",
       "    <tr>\n",
       "      <th>6</th>\n",
       "      <td>NaN</td>\n",
       "      <td>6.610632</td>\n",
       "      <td>3.344941</td>\n",
       "      <td>6.576825</td>\n",
       "      <td>3.356149</td>\n",
       "    </tr>\n",
       "    <tr>\n",
       "      <th>7</th>\n",
       "      <td>KFC</td>\n",
       "      <td>6.610632</td>\n",
       "      <td>3.344941</td>\n",
       "      <td>6.637780</td>\n",
       "      <td>3.369842</td>\n",
       "    </tr>\n",
       "    <tr>\n",
       "      <th>8</th>\n",
       "      <td>Tastee</td>\n",
       "      <td>6.610632</td>\n",
       "      <td>3.344941</td>\n",
       "      <td>6.602567</td>\n",
       "      <td>3.305939</td>\n",
       "    </tr>\n",
       "  </tbody>\n",
       "</table>\n",
       "</div>"
      ],
      "text/plain": [
       "                     restaurant  latitude_Res  longitude_Res  latitude_Food  \\\n",
       "0               Fired Yam Joint      6.610632       3.344941       6.611509   \n",
       "1              Chicken Republic      6.610632       3.344941       6.591666   \n",
       "2        7 Points Bar and Grill      6.610632       3.344941       6.601546   \n",
       "3                           KFC      6.610632       3.344941       6.614258   \n",
       "4  Dreamfield Juice & Salad Bar      6.610632       3.344941       6.597941   \n",
       "5                           KFC      6.610632       3.344941       6.578476   \n",
       "6                           NaN      6.610632       3.344941       6.576825   \n",
       "7                           KFC      6.610632       3.344941       6.637780   \n",
       "8                        Tastee      6.610632       3.344941       6.602567   \n",
       "\n",
       "   longitude_Food  \n",
       "0        3.358840  \n",
       "1        3.359756  \n",
       "2        3.352980  \n",
       "3        3.357795  \n",
       "4        3.353668  \n",
       "5        3.321260  \n",
       "6        3.356149  \n",
       "7        3.369842  \n",
       "8        3.305939  "
      ]
     },
     "execution_count": 47,
     "metadata": {},
     "output_type": "execute_result"
    }
   ],
   "source": [
    "Result0"
   ]
  },
  {
   "cell_type": "markdown",
   "metadata": {},
   "source": [
    "#### List of HealthCare"
   ]
  },
  {
   "cell_type": "code",
   "execution_count": 48,
   "metadata": {},
   "outputs": [
    {
     "data": {
      "text/html": [
       "<div>\n",
       "<style scoped>\n",
       "    .dataframe tbody tr th:only-of-type {\n",
       "        vertical-align: middle;\n",
       "    }\n",
       "\n",
       "    .dataframe tbody tr th {\n",
       "        vertical-align: top;\n",
       "    }\n",
       "\n",
       "    .dataframe thead th {\n",
       "        text-align: right;\n",
       "    }\n",
       "</style>\n",
       "<table border=\"1\" class=\"dataframe\">\n",
       "  <thead>\n",
       "    <tr style=\"text-align: right;\">\n",
       "      <th></th>\n",
       "      <th>Healthcare</th>\n",
       "      <th>latitude_Res</th>\n",
       "      <th>longitude_Res</th>\n",
       "      <th>latitude_Healthcare</th>\n",
       "      <th>longitude_Healthcare</th>\n",
       "    </tr>\n",
       "  </thead>\n",
       "  <tbody>\n",
       "    <tr>\n",
       "      <th>0</th>\n",
       "      <td>HealthPlus</td>\n",
       "      <td>6.610632</td>\n",
       "      <td>3.344941</td>\n",
       "      <td>6.613858</td>\n",
       "      <td>3.358141</td>\n",
       "    </tr>\n",
       "  </tbody>\n",
       "</table>\n",
       "</div>"
      ],
      "text/plain": [
       "   Healthcare  latitude_Res  longitude_Res  latitude_Healthcare  \\\n",
       "0  HealthPlus      6.610632       3.344941             6.613858   \n",
       "\n",
       "   longitude_Healthcare  \n",
       "0              3.358141  "
      ]
     },
     "execution_count": 48,
     "metadata": {},
     "output_type": "execute_result"
    }
   ],
   "source": [
    "Result1"
   ]
  },
  {
   "cell_type": "markdown",
   "metadata": {},
   "source": [
    "#### List of Automated Teller Machine"
   ]
  },
  {
   "cell_type": "code",
   "execution_count": 49,
   "metadata": {},
   "outputs": [
    {
     "data": {
      "text/html": [
       "<div>\n",
       "<style scoped>\n",
       "    .dataframe tbody tr th:only-of-type {\n",
       "        vertical-align: middle;\n",
       "    }\n",
       "\n",
       "    .dataframe tbody tr th {\n",
       "        vertical-align: top;\n",
       "    }\n",
       "\n",
       "    .dataframe thead th {\n",
       "        text-align: right;\n",
       "    }\n",
       "</style>\n",
       "<table border=\"1\" class=\"dataframe\">\n",
       "  <thead>\n",
       "    <tr style=\"text-align: right;\">\n",
       "      <th></th>\n",
       "      <th>ATM</th>\n",
       "      <th>latitude_Res</th>\n",
       "      <th>longitude_Res</th>\n",
       "      <th>latitude_ATM</th>\n",
       "      <th>longitude_ATM</th>\n",
       "    </tr>\n",
       "  </thead>\n",
       "  <tbody>\n",
       "    <tr>\n",
       "      <th>0</th>\n",
       "      <td>First Bank</td>\n",
       "      <td>6.610632</td>\n",
       "      <td>3.344941</td>\n",
       "      <td>6.623183</td>\n",
       "      <td>3.299247</td>\n",
       "    </tr>\n",
       "    <tr>\n",
       "      <th>1</th>\n",
       "      <td>UBA</td>\n",
       "      <td>6.610632</td>\n",
       "      <td>3.344941</td>\n",
       "      <td>6.558062</td>\n",
       "      <td>3.391388</td>\n",
       "    </tr>\n",
       "    <tr>\n",
       "      <th>2</th>\n",
       "      <td>GTBank</td>\n",
       "      <td>6.610632</td>\n",
       "      <td>3.344941</td>\n",
       "      <td>6.640153</td>\n",
       "      <td>3.365502</td>\n",
       "    </tr>\n",
       "    <tr>\n",
       "      <th>3</th>\n",
       "      <td>Zenith Bank</td>\n",
       "      <td>6.610632</td>\n",
       "      <td>3.344941</td>\n",
       "      <td>6.640268</td>\n",
       "      <td>3.366062</td>\n",
       "    </tr>\n",
       "    <tr>\n",
       "      <th>4</th>\n",
       "      <td>First Bank</td>\n",
       "      <td>6.610632</td>\n",
       "      <td>3.344941</td>\n",
       "      <td>6.640151</td>\n",
       "      <td>3.367755</td>\n",
       "    </tr>\n",
       "  </tbody>\n",
       "</table>\n",
       "</div>"
      ],
      "text/plain": [
       "           ATM  latitude_Res  longitude_Res  latitude_ATM  longitude_ATM\n",
       "0   First Bank      6.610632       3.344941      6.623183       3.299247\n",
       "1          UBA      6.610632       3.344941      6.558062       3.391388\n",
       "2       GTBank      6.610632       3.344941      6.640153       3.365502\n",
       "3  Zenith Bank      6.610632       3.344941      6.640268       3.366062\n",
       "4   First Bank      6.610632       3.344941      6.640151       3.367755"
      ]
     },
     "execution_count": 49,
     "metadata": {},
     "output_type": "execute_result"
    }
   ],
   "source": [
    "Result2"
   ]
  },
  {
   "cell_type": "markdown",
   "metadata": {},
   "source": [
    "#### List of Sport complex"
   ]
  },
  {
   "cell_type": "code",
   "execution_count": 50,
   "metadata": {},
   "outputs": [
    {
     "data": {
      "text/html": [
       "<div>\n",
       "<style scoped>\n",
       "    .dataframe tbody tr th:only-of-type {\n",
       "        vertical-align: middle;\n",
       "    }\n",
       "\n",
       "    .dataframe tbody tr th {\n",
       "        vertical-align: top;\n",
       "    }\n",
       "\n",
       "    .dataframe thead th {\n",
       "        text-align: right;\n",
       "    }\n",
       "</style>\n",
       "<table border=\"1\" class=\"dataframe\">\n",
       "  <thead>\n",
       "    <tr style=\"text-align: right;\">\n",
       "      <th></th>\n",
       "      <th>Sport</th>\n",
       "      <th>latitude_Res</th>\n",
       "      <th>longitude_Res</th>\n",
       "      <th>latitude_Sport</th>\n",
       "      <th>longitude_Sport</th>\n",
       "    </tr>\n",
       "  </thead>\n",
       "  <tbody>\n",
       "    <tr>\n",
       "      <th>0</th>\n",
       "      <td>Fod Gym</td>\n",
       "      <td>6.610632</td>\n",
       "      <td>3.344941</td>\n",
       "      <td>6.562515</td>\n",
       "      <td>3.384014</td>\n",
       "    </tr>\n",
       "  </tbody>\n",
       "</table>\n",
       "</div>"
      ],
      "text/plain": [
       "     Sport  latitude_Res  longitude_Res  latitude_Sport  longitude_Sport\n",
       "0  Fod Gym      6.610632       3.344941        6.562515         3.384014"
      ]
     },
     "execution_count": 50,
     "metadata": {},
     "output_type": "execute_result"
    }
   ],
   "source": [
    "Result3"
   ]
  },
  {
   "cell_type": "markdown",
   "metadata": {},
   "source": [
    "#### vi. Calculating the Distance"
   ]
  },
  {
   "cell_type": "code",
   "execution_count": 22,
   "metadata": {},
   "outputs": [],
   "source": [
    "from geopy import distance\n",
    "from geopy import Point"
   ]
  },
  {
   "cell_type": "code",
   "execution_count": 54,
   "metadata": {},
   "outputs": [],
   "source": [
    "#creating a function to calculate distance \n",
    "def geo_distance0 (row0):\n",
    "    House0 = Point(row0['latitude_Res'], row0['longitude_Res'])\n",
    "    Food = Point(row0['latitude_Food'], row0['longitude_Food'])\n",
    "    return distance.distance(House0, Food).km\n",
    "\n",
    "def geo_distance1 (row1):    \n",
    "    House1 = Point(row1['latitude_Res'], row1['longitude_Res'])\n",
    "    Healthcare = Point(row1['latitude_Healthcare'], row1['longitude_Healthcare'])\n",
    "    return distance.distance(House1, Healthcare).km\n",
    "\n",
    "def geo_distance2 (row2):    \n",
    "    House2 = Point(row2['latitude_Res'], row2['longitude_Res'])\n",
    "    ATM = Point(row2['latitude_ATM'], row2['longitude_ATM'])\n",
    "    return distance.distance(House2, ATM).km\n",
    "\n",
    "def geo_distance3 (row3):    \n",
    "    House3 = Point(row3['latitude_Res'], row3['longitude_Res'])\n",
    "    sport = Point(row3['latitude_Sport'], row3['longitude_Sport'])\n",
    "    return distance.distance(House3, sport).km"
   ]
  },
  {
   "cell_type": "code",
   "execution_count": 55,
   "metadata": {},
   "outputs": [],
   "source": [
    "#applying to dataset\n",
    "Result0['geo_distance'] = Result0.apply(lambda row0: geo_distance0(row0), axis=1)\n",
    "Result1['geo_distance'] = Result1.apply(lambda row1: geo_distance1(row1), axis=1)\n",
    "Result2['geo_distance'] = Result2.apply(lambda row2: geo_distance2(row2), axis=1)\n",
    "Result3['geo_distance'] = Result3.apply(lambda row3: geo_distance3(row3), axis=1)"
   ]
  },
  {
   "cell_type": "code",
   "execution_count": 56,
   "metadata": {},
   "outputs": [
    {
     "data": {
      "text/html": [
       "<div>\n",
       "<style scoped>\n",
       "    .dataframe tbody tr th:only-of-type {\n",
       "        vertical-align: middle;\n",
       "    }\n",
       "\n",
       "    .dataframe tbody tr th {\n",
       "        vertical-align: top;\n",
       "    }\n",
       "\n",
       "    .dataframe thead th {\n",
       "        text-align: right;\n",
       "    }\n",
       "</style>\n",
       "<table border=\"1\" class=\"dataframe\">\n",
       "  <thead>\n",
       "    <tr style=\"text-align: right;\">\n",
       "      <th></th>\n",
       "      <th>restaurant</th>\n",
       "      <th>latitude_Res</th>\n",
       "      <th>longitude_Res</th>\n",
       "      <th>latitude_Food</th>\n",
       "      <th>longitude_Food</th>\n",
       "      <th>geo_distance</th>\n",
       "    </tr>\n",
       "  </thead>\n",
       "  <tbody>\n",
       "    <tr>\n",
       "      <th>0</th>\n",
       "      <td>Fired Yam Joint</td>\n",
       "      <td>6.610632</td>\n",
       "      <td>3.344941</td>\n",
       "      <td>6.611509</td>\n",
       "      <td>3.358840</td>\n",
       "      <td>1.540071</td>\n",
       "    </tr>\n",
       "    <tr>\n",
       "      <th>1</th>\n",
       "      <td>Chicken Republic</td>\n",
       "      <td>6.610632</td>\n",
       "      <td>3.344941</td>\n",
       "      <td>6.591666</td>\n",
       "      <td>3.359756</td>\n",
       "      <td>2.661380</td>\n",
       "    </tr>\n",
       "    <tr>\n",
       "      <th>2</th>\n",
       "      <td>7 Points Bar and Grill</td>\n",
       "      <td>6.610632</td>\n",
       "      <td>3.344941</td>\n",
       "      <td>6.601546</td>\n",
       "      <td>3.352980</td>\n",
       "      <td>1.341560</td>\n",
       "    </tr>\n",
       "    <tr>\n",
       "      <th>3</th>\n",
       "      <td>KFC</td>\n",
       "      <td>6.610632</td>\n",
       "      <td>3.344941</td>\n",
       "      <td>6.614258</td>\n",
       "      <td>3.357795</td>\n",
       "      <td>1.476941</td>\n",
       "    </tr>\n",
       "    <tr>\n",
       "      <th>4</th>\n",
       "      <td>Dreamfield Juice &amp; Salad Bar</td>\n",
       "      <td>6.610632</td>\n",
       "      <td>3.344941</td>\n",
       "      <td>6.597941</td>\n",
       "      <td>3.353668</td>\n",
       "      <td>1.703239</td>\n",
       "    </tr>\n",
       "    <tr>\n",
       "      <th>5</th>\n",
       "      <td>KFC</td>\n",
       "      <td>6.610632</td>\n",
       "      <td>3.344941</td>\n",
       "      <td>6.578476</td>\n",
       "      <td>3.321260</td>\n",
       "      <td>4.416253</td>\n",
       "    </tr>\n",
       "    <tr>\n",
       "      <th>6</th>\n",
       "      <td>NaN</td>\n",
       "      <td>6.610632</td>\n",
       "      <td>3.344941</td>\n",
       "      <td>6.576825</td>\n",
       "      <td>3.356149</td>\n",
       "      <td>3.938720</td>\n",
       "    </tr>\n",
       "    <tr>\n",
       "      <th>7</th>\n",
       "      <td>KFC</td>\n",
       "      <td>6.610632</td>\n",
       "      <td>3.344941</td>\n",
       "      <td>6.637780</td>\n",
       "      <td>3.369842</td>\n",
       "      <td>4.073908</td>\n",
       "    </tr>\n",
       "    <tr>\n",
       "      <th>8</th>\n",
       "      <td>Tastee</td>\n",
       "      <td>6.610632</td>\n",
       "      <td>3.344941</td>\n",
       "      <td>6.602567</td>\n",
       "      <td>3.305939</td>\n",
       "      <td>4.404263</td>\n",
       "    </tr>\n",
       "  </tbody>\n",
       "</table>\n",
       "</div>"
      ],
      "text/plain": [
       "                     restaurant  latitude_Res  longitude_Res  latitude_Food  \\\n",
       "0               Fired Yam Joint      6.610632       3.344941       6.611509   \n",
       "1              Chicken Republic      6.610632       3.344941       6.591666   \n",
       "2        7 Points Bar and Grill      6.610632       3.344941       6.601546   \n",
       "3                           KFC      6.610632       3.344941       6.614258   \n",
       "4  Dreamfield Juice & Salad Bar      6.610632       3.344941       6.597941   \n",
       "5                           KFC      6.610632       3.344941       6.578476   \n",
       "6                           NaN      6.610632       3.344941       6.576825   \n",
       "7                           KFC      6.610632       3.344941       6.637780   \n",
       "8                        Tastee      6.610632       3.344941       6.602567   \n",
       "\n",
       "   longitude_Food  geo_distance  \n",
       "0        3.358840      1.540071  \n",
       "1        3.359756      2.661380  \n",
       "2        3.352980      1.341560  \n",
       "3        3.357795      1.476941  \n",
       "4        3.353668      1.703239  \n",
       "5        3.321260      4.416253  \n",
       "6        3.356149      3.938720  \n",
       "7        3.369842      4.073908  \n",
       "8        3.305939      4.404263  "
      ]
     },
     "execution_count": 56,
     "metadata": {},
     "output_type": "execute_result"
    }
   ],
   "source": [
    "Result0"
   ]
  },
  {
   "cell_type": "code",
   "execution_count": 57,
   "metadata": {},
   "outputs": [
    {
     "data": {
      "text/html": [
       "<div>\n",
       "<style scoped>\n",
       "    .dataframe tbody tr th:only-of-type {\n",
       "        vertical-align: middle;\n",
       "    }\n",
       "\n",
       "    .dataframe tbody tr th {\n",
       "        vertical-align: top;\n",
       "    }\n",
       "\n",
       "    .dataframe thead th {\n",
       "        text-align: right;\n",
       "    }\n",
       "</style>\n",
       "<table border=\"1\" class=\"dataframe\">\n",
       "  <thead>\n",
       "    <tr style=\"text-align: right;\">\n",
       "      <th></th>\n",
       "      <th>Healthcare</th>\n",
       "      <th>latitude_Res</th>\n",
       "      <th>longitude_Res</th>\n",
       "      <th>latitude_Healthcare</th>\n",
       "      <th>longitude_Healthcare</th>\n",
       "      <th>geo_distance</th>\n",
       "    </tr>\n",
       "  </thead>\n",
       "  <tbody>\n",
       "    <tr>\n",
       "      <th>0</th>\n",
       "      <td>HealthPlus</td>\n",
       "      <td>6.610632</td>\n",
       "      <td>3.344941</td>\n",
       "      <td>6.613858</td>\n",
       "      <td>3.358141</td>\n",
       "      <td>1.5027</td>\n",
       "    </tr>\n",
       "  </tbody>\n",
       "</table>\n",
       "</div>"
      ],
      "text/plain": [
       "   Healthcare  latitude_Res  longitude_Res  latitude_Healthcare  \\\n",
       "0  HealthPlus      6.610632       3.344941             6.613858   \n",
       "\n",
       "   longitude_Healthcare  geo_distance  \n",
       "0              3.358141        1.5027  "
      ]
     },
     "execution_count": 57,
     "metadata": {},
     "output_type": "execute_result"
    }
   ],
   "source": [
    "Result1"
   ]
  },
  {
   "cell_type": "code",
   "execution_count": 58,
   "metadata": {},
   "outputs": [
    {
     "data": {
      "text/html": [
       "<div>\n",
       "<style scoped>\n",
       "    .dataframe tbody tr th:only-of-type {\n",
       "        vertical-align: middle;\n",
       "    }\n",
       "\n",
       "    .dataframe tbody tr th {\n",
       "        vertical-align: top;\n",
       "    }\n",
       "\n",
       "    .dataframe thead th {\n",
       "        text-align: right;\n",
       "    }\n",
       "</style>\n",
       "<table border=\"1\" class=\"dataframe\">\n",
       "  <thead>\n",
       "    <tr style=\"text-align: right;\">\n",
       "      <th></th>\n",
       "      <th>ATM</th>\n",
       "      <th>latitude_Res</th>\n",
       "      <th>longitude_Res</th>\n",
       "      <th>latitude_ATM</th>\n",
       "      <th>longitude_ATM</th>\n",
       "      <th>geo_distance</th>\n",
       "    </tr>\n",
       "  </thead>\n",
       "  <tbody>\n",
       "    <tr>\n",
       "      <th>0</th>\n",
       "      <td>First Bank</td>\n",
       "      <td>6.610632</td>\n",
       "      <td>3.344941</td>\n",
       "      <td>6.623183</td>\n",
       "      <td>3.299247</td>\n",
       "      <td>5.240137</td>\n",
       "    </tr>\n",
       "    <tr>\n",
       "      <th>1</th>\n",
       "      <td>UBA</td>\n",
       "      <td>6.610632</td>\n",
       "      <td>3.344941</td>\n",
       "      <td>6.558062</td>\n",
       "      <td>3.391388</td>\n",
       "      <td>7.757755</td>\n",
       "    </tr>\n",
       "    <tr>\n",
       "      <th>2</th>\n",
       "      <td>GTBank</td>\n",
       "      <td>6.610632</td>\n",
       "      <td>3.344941</td>\n",
       "      <td>6.640153</td>\n",
       "      <td>3.365502</td>\n",
       "      <td>3.978483</td>\n",
       "    </tr>\n",
       "    <tr>\n",
       "      <th>3</th>\n",
       "      <td>Zenith Bank</td>\n",
       "      <td>6.610632</td>\n",
       "      <td>3.344941</td>\n",
       "      <td>6.640268</td>\n",
       "      <td>3.366062</td>\n",
       "      <td>4.024540</td>\n",
       "    </tr>\n",
       "    <tr>\n",
       "      <th>4</th>\n",
       "      <td>First Bank</td>\n",
       "      <td>6.610632</td>\n",
       "      <td>3.344941</td>\n",
       "      <td>6.640151</td>\n",
       "      <td>3.367755</td>\n",
       "      <td>4.125703</td>\n",
       "    </tr>\n",
       "  </tbody>\n",
       "</table>\n",
       "</div>"
      ],
      "text/plain": [
       "           ATM  latitude_Res  longitude_Res  latitude_ATM  longitude_ATM  \\\n",
       "0   First Bank      6.610632       3.344941      6.623183       3.299247   \n",
       "1          UBA      6.610632       3.344941      6.558062       3.391388   \n",
       "2       GTBank      6.610632       3.344941      6.640153       3.365502   \n",
       "3  Zenith Bank      6.610632       3.344941      6.640268       3.366062   \n",
       "4   First Bank      6.610632       3.344941      6.640151       3.367755   \n",
       "\n",
       "   geo_distance  \n",
       "0      5.240137  \n",
       "1      7.757755  \n",
       "2      3.978483  \n",
       "3      4.024540  \n",
       "4      4.125703  "
      ]
     },
     "execution_count": 58,
     "metadata": {},
     "output_type": "execute_result"
    }
   ],
   "source": [
    "Result2"
   ]
  },
  {
   "cell_type": "code",
   "execution_count": null,
   "metadata": {},
   "outputs": [],
   "source": []
  },
  {
   "cell_type": "code",
   "execution_count": 59,
   "metadata": {},
   "outputs": [
    {
     "data": {
      "text/html": [
       "<div>\n",
       "<style scoped>\n",
       "    .dataframe tbody tr th:only-of-type {\n",
       "        vertical-align: middle;\n",
       "    }\n",
       "\n",
       "    .dataframe tbody tr th {\n",
       "        vertical-align: top;\n",
       "    }\n",
       "\n",
       "    .dataframe thead th {\n",
       "        text-align: right;\n",
       "    }\n",
       "</style>\n",
       "<table border=\"1\" class=\"dataframe\">\n",
       "  <thead>\n",
       "    <tr style=\"text-align: right;\">\n",
       "      <th></th>\n",
       "      <th>Sport</th>\n",
       "      <th>latitude_Res</th>\n",
       "      <th>longitude_Res</th>\n",
       "      <th>latitude_Sport</th>\n",
       "      <th>longitude_Sport</th>\n",
       "      <th>geo_distance</th>\n",
       "    </tr>\n",
       "  </thead>\n",
       "  <tbody>\n",
       "    <tr>\n",
       "      <th>0</th>\n",
       "      <td>Fod Gym</td>\n",
       "      <td>6.610632</td>\n",
       "      <td>3.344941</td>\n",
       "      <td>6.562515</td>\n",
       "      <td>3.384014</td>\n",
       "      <td>6.854707</td>\n",
       "    </tr>\n",
       "  </tbody>\n",
       "</table>\n",
       "</div>"
      ],
      "text/plain": [
       "     Sport  latitude_Res  longitude_Res  latitude_Sport  longitude_Sport  \\\n",
       "0  Fod Gym      6.610632       3.344941        6.562515         3.384014   \n",
       "\n",
       "   geo_distance  \n",
       "0      6.854707  "
      ]
     },
     "execution_count": 59,
     "metadata": {},
     "output_type": "execute_result"
    }
   ],
   "source": [
    "Result3"
   ]
  },
  {
   "cell_type": "code",
   "execution_count": 60,
   "metadata": {},
   "outputs": [],
   "source": [
    "import pandas as pd    # For data loading & management\n",
    "import os              # For operating system related activities\n",
    "from tqdm import tqdm  # For monitroing the progress\n",
    "tqdm.pandas()"
   ]
  },
  {
   "cell_type": "code",
   "execution_count": 61,
   "metadata": {},
   "outputs": [],
   "source": [
    "from geopy.geocoders import Nominatim\n",
    "geolocator = Nominatim(user_agent='my_app',timeout=None)\n",
    "from geopy.extra.rate_limiter import RateLimiter"
   ]
  },
  {
   "cell_type": "code",
   "execution_count": 62,
   "metadata": {},
   "outputs": [],
   "source": [
    "location = geolocator.reverse(\"9.07991, 7.4667474\")"
   ]
  },
  {
   "cell_type": "code",
   "execution_count": 63,
   "metadata": {},
   "outputs": [
    {
     "data": {
      "text/plain": [
       "{'place_id': 125909121,\n",
       " 'licence': 'Data © OpenStreetMap contributors, ODbL 1.0. https://osm.org/copyright',\n",
       " 'osm_type': 'way',\n",
       " 'osm_id': 168978861,\n",
       " 'lat': '9.080070497782646',\n",
       " 'lon': '7.466849784066735',\n",
       " 'display_name': 'Parakou Crescent, Wuse District, Mabushipe, Municipal Area Council, Federal Capital Territory, 900288, Nigeria',\n",
       " 'address': {'road': 'Parakou Crescent',\n",
       "  'suburb': 'Wuse District',\n",
       "  'village': 'Mabushipe',\n",
       "  'county': 'Municipal Area Council',\n",
       "  'state': 'Federal Capital Territory',\n",
       "  'postcode': '900288',\n",
       "  'country': 'Nigeria',\n",
       "  'country_code': 'ng'},\n",
       " 'boundingbox': ['9.0744176', '9.0809769', '7.4652231', '7.4688341']}"
      ]
     },
     "execution_count": 63,
     "metadata": {},
     "output_type": "execute_result"
    }
   ],
   "source": [
    "location.raw"
   ]
  },
  {
   "cell_type": "code",
   "execution_count": 64,
   "metadata": {},
   "outputs": [
    {
     "data": {
      "text/plain": [
       "{'road': 'Parakou Crescent',\n",
       " 'suburb': 'Wuse District',\n",
       " 'village': 'Mabushipe',\n",
       " 'county': 'Municipal Area Council',\n",
       " 'state': 'Federal Capital Territory',\n",
       " 'postcode': '900288',\n",
       " 'country': 'Nigeria',\n",
       " 'country_code': 'ng'}"
      ]
     },
     "execution_count": 64,
     "metadata": {},
     "output_type": "execute_result"
    }
   ],
   "source": [
    "location.raw['address']"
   ]
  },
  {
   "cell_type": "code",
   "execution_count": 65,
   "metadata": {},
   "outputs": [
    {
     "data": {
      "text/plain": [
       "[Location(Parakou Cres, Abuja, Abuja Municipal, Federal Capital Territory, (9.078181529729054, 7.468538487546602, 0.0)),\n",
       " Location(Federal Capital Territory, (8.906228843000065, 7.189050004000023, 0.0)),\n",
       " Location(Federal Capital Territory, Abuja Federal Capital Territory, (8.833330000000046, 7.166670000000067, 0.0))]"
      ]
     },
     "execution_count": 65,
     "metadata": {},
     "output_type": "execute_result"
    }
   ],
   "source": [
    "Address = \"Parakou Crescent, Wuse District, Mabushipe, Municipal Area Council, Federal Capital Territory\"\n",
    "from geopy.geocoders import ArcGIS\n",
    "ArcGIS_geolocator = ArcGIS()\n",
    "ArcGIS_geolocator.geocode(Address, exactly_one=False)"
   ]
  },
  {
   "cell_type": "code",
   "execution_count": 69,
   "metadata": {},
   "outputs": [],
   "source": [
    "result0 = api.query(\"\"\"\n",
    "    node(around:1000,9.078181529729054, 7.468538487546602)[\"cuisine\"];\n",
    "    (._;>;);\n",
    "    out body;\n",
    "    \"\"\")\n",
    "\n",
    "result1 = api.query(\"\"\"\n",
    "    way(around:1000,9.078181529729054, 7.468538487546602)[\"highway\"];\n",
    "    (._;>;);\n",
    "    out body;\n",
    "    \"\"\")\n",
    "\n",
    "result2 = api.query(\"\"\"\n",
    "    node(around:3000,9.078181529729054, 7.468538487546602)[\"healthcare\"];\n",
    "    (._;>;);\n",
    "    out body;\n",
    "    \"\"\")\n",
    "\n",
    "result3 = api.query(\"\"\"\n",
    "    node(around:3000,9.078181529729054, 7.468538487546602)[\"sport\"];\n",
    "    (._;>;);\n",
    "    out body;\n",
    "    \"\"\")\n",
    "\n",
    "result4 = api.query(\"\"\"\n",
    "    relation(around:3000,9.078181529729054, 7.468538487546602)[\"education\"];\n",
    "    (._;>;);\n",
    "    out body;\n",
    "    \"\"\")\n",
    "\n",
    "result5 = api.query(\"\"\"\n",
    "    node(around:3000,9.078181529729054, 7.468538487546602)[\"ATM\"];\n",
    "    (._;>;);\n",
    "    out body;\n",
    "    \"\"\")"
   ]
  },
  {
   "cell_type": "code",
   "execution_count": 70,
   "metadata": {},
   "outputs": [
    {
     "name": "stdout",
     "output_type": "stream",
     "text": [
      "Number of Food Selling Places =  2\n",
      "Number of Highway =  241\n",
      "Number of Healthcare  =  0\n",
      "Number of Sport  =  0\n",
      "Number of education  =  0\n",
      "Number of ATM  =  0\n"
     ]
    }
   ],
   "source": [
    "print(\"Number of Food Selling Places = \",len(result0.nodes))\n",
    "print(\"Number of Highway = \",len(result1.ways))\n",
    "print(\"Number of Healthcare  = \",len(result2.nodes))\n",
    "print(\"Number of Sport  = \",len(result3.nodes))\n",
    "print(\"Number of education  = \",len(result4.relations))\n",
    "print(\"Number of ATM  = \",len(result4.nodes))"
   ]
  },
  {
   "cell_type": "code",
   "execution_count": null,
   "metadata": {},
   "outputs": [],
   "source": []
  }
 ],
 "metadata": {
  "kernelspec": {
   "display_name": "Python 3",
   "language": "python",
   "name": "python3"
  },
  "language_info": {
   "codemirror_mode": {
    "name": "ipython",
    "version": 3
   },
   "file_extension": ".py",
   "mimetype": "text/x-python",
   "name": "python",
   "nbconvert_exporter": "python",
   "pygments_lexer": "ipython3",
   "version": "3.7.9"
  }
 },
 "nbformat": 4,
 "nbformat_minor": 2
}
